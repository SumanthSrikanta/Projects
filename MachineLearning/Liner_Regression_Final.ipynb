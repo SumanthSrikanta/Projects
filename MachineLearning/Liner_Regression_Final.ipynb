{
 "cells": [
  {
   "cell_type": "code",
   "execution_count": 53,
   "id": "c938ba08-7a54-4ace-b604-e2cbf250d9d9",
   "metadata": {},
   "outputs": [],
   "source": [
    "import pandas as pd\n",
    "import numpy as np"
   ]
  },
  {
   "cell_type": "code",
   "execution_count": 54,
   "id": "4c7dd4f2-3d3c-4333-a7bc-2cecd624d9e8",
   "metadata": {},
   "outputs": [],
   "source": [
    "train_df = pd.read_csv('train.csv')\n",
    "test_df = pd.read_csv('test.csv')"
   ]
  },
  {
   "cell_type": "code",
   "execution_count": 55,
   "id": "e6cf399f-6e10-4e76-9454-d9c8f4c7d9a2",
   "metadata": {},
   "outputs": [],
   "source": [
    "train_df=train_df.dropna()"
   ]
  },
  {
   "cell_type": "code",
   "execution_count": 56,
   "id": "10a11093-0ec3-407e-a8b7-04de525a44de",
   "metadata": {},
   "outputs": [],
   "source": [
    "train_X_cord = train_df['x'].values\n",
    "train_Y_cord = train_df['y'].values\n",
    "\n",
    "mean_X_cord= np.mean(train_X_cord)\n",
    "mean_Y_cord=np.mean(train_Y_cord)"
   ]
  },
  {
   "cell_type": "code",
   "execution_count": 63,
   "id": "e24d1246-0049-45fc-bfa0-91651a77c014",
   "metadata": {},
   "outputs": [],
   "source": [
    "a = 0\n",
    "b = 0\n",
    "\n",
    "for i in range(len(train_df)):\n",
    "    a += (train_X_cord[i] - mean_X_cord) * (train_Y_cord[i] - mean_Y_cord)\n",
    "    b += (train_X_cord[i] - mean_X_cord) ** 2\n",
    "\n",
    "slope = a / b\n",
    "intercept = mean_Y_cord - (slope_m * mean_X_cord)\n",
    "\n"
   ]
  },
  {
   "cell_type": "code",
   "execution_count": 65,
   "id": "702e08c9-f5d1-4285-bf5e-ab01d0a9fee7",
   "metadata": {},
   "outputs": [],
   "source": [
    "test_X_cord = test_df['x'].values\n",
    "test_Y_cord = test_df['y'].values\n",
    "\n",
    "Y_pred_cord=[]\n",
    "\n",
    "for i in range(len(test_X)):\n",
    "    y=intercept_c + slope_m * test_X_cord[i]\n",
    "    Y_pred_cord.append(y)"
   ]
  },
  {
   "cell_type": "code",
   "execution_count": 66,
   "id": "1be9e507-8dbb-41c4-984c-75007c7aed0b",
   "metadata": {},
   "outputs": [],
   "source": [
    "N=len(test_Y_cord)\n",
    "diff=0\n",
    "\n",
    "for i in range(len(test_Y_cord)):\n",
    "    diff += (test_Y_cord[i] - Y_pred_cord[i]) ** 2\n",
    "    \n",
    "mean_error = diff/N\n",
    "root_error = np.sqrt(MSE)"
   ]
  },
  {
   "cell_type": "code",
   "execution_count": 67,
   "id": "0a1431f1-b283-44b6-b947-5ff058e2a861",
   "metadata": {},
   "outputs": [
    {
     "name": "stdout",
     "output_type": "stream",
     "text": [
      "3.0713062680298253\n"
     ]
    }
   ],
   "source": [
    "print(root_error)"
   ]
  },
  {
   "cell_type": "code",
   "execution_count": null,
   "id": "a7305276-31a6-4ed4-bae6-e96ea49819ba",
   "metadata": {},
   "outputs": [],
   "source": []
  }
 ],
 "metadata": {
  "kernelspec": {
   "display_name": "Python 3 (ipykernel)",
   "language": "python",
   "name": "python3"
  },
  "language_info": {
   "codemirror_mode": {
    "name": "ipython",
    "version": 3
   },
   "file_extension": ".py",
   "mimetype": "text/x-python",
   "name": "python",
   "nbconvert_exporter": "python",
   "pygments_lexer": "ipython3",
   "version": "3.9.7"
  }
 },
 "nbformat": 4,
 "nbformat_minor": 5
}
