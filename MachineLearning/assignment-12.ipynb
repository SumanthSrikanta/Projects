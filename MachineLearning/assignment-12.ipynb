{
 "cells": [
  {
   "cell_type": "code",
   "execution_count": 85,
   "id": "8633fdca",
   "metadata": {},
   "outputs": [],
   "source": [
    "from sklearn.metrics import confusion_matrix\n",
    "from sklearn.metrics import accuracy_score\n",
    "from sklearn.metrics import recall_score\n",
    "from sklearn.metrics import precision_score\n",
    "from sklearn.metrics import f1_score\n",
    "import random\n",
    "import pandas as pd\n",
    "import numpy as np\n",
    " \n"
   ]
  },
  {
   "cell_type": "code",
   "execution_count": 90,
   "id": "81c0335a",
   "metadata": {},
   "outputs": [
    {
     "name": "stdout",
     "output_type": "stream",
     "text": [
      "[4, 2, 4, 3, 2] [3, 5, 4, 3, 2]\n"
     ]
    }
   ],
   "source": [
    "predicted_list= []\n",
    "ground_truth = []\n",
    "\n",
    "for i in range(5):\n",
    "    m = random.randint(1,5)\n",
    "    n = random.randint(1,5)\n",
    "    predicted_list.append(m)\n",
    "    ground_truth.append(n)\n",
    "print(predicted_list,ground_truth)"
   ]
  },
  {
   "cell_type": "code",
   "execution_count": 91,
   "id": "272fb5a3",
   "metadata": {},
   "outputs": [],
   "source": [
    "class Confusion_Matrix:\n",
    "    def __init__(self,predicted_classes,ground_truth):\n",
    "        self.predicted_classes = predicted_list\n",
    "        self.ground_truth = ground_truth\n",
    "        self.con_matrix = confusion_matrix(predicted_classes,ground_truth)\n",
    "    def getPrecision(self,label):\n",
    "        col = self.con_matrix[:, label]\n",
    "        precision = self.con_matrix[label, label] / col.sum()\n",
    "        return precision\n",
    "    def getRecall(self,label):\n",
    "        row = self.con_matrix[label, :]\n",
    "        recall = self.con_matrix[label, label] / row.sum()\n",
    "        return recall\n",
    "    def getF1Score(self,label):\n",
    "        f1score = 2*self.getPrecision(label)*self.getRecall(label)/(self.getPrecision(label)+self.getRecall(label))\n",
    "        return f1score\n",
    "    def getAccuracy(self):\n",
    "        diagonal_sum = self.con_matrix.trace()\n",
    "        sum_of_all_elements = self.con_matrix.sum()\n",
    "        return diagonal_sum / sum_of_all_elements \n",
    "    def printEvaluation(self):\n",
    "        #cm=Confusion_Matrix(predicted_list,ground_truth)\n",
    "        #c=Confusion_Matrix(mat)\n",
    "        label=[]\n",
    "        precision=[]\n",
    "        recall=[]\n",
    "        f1score=[]\n",
    "        accuracy=[]\n",
    "\n",
    "        for l in range(len(self.con_matrix)):\n",
    "            #print(f\"{label:5d} {getPrecision(label):9.3f} {getRecall(label):6.3f} {getF1Score(label)}\")\n",
    "            label.append(l)\n",
    "            precision.append(self.getPrecision(l))\n",
    "            recall.append(self.getRecall(l))\n",
    "            f1score.append(self.getF1Score(l))\n",
    "            accuracy.append(self.getAccuracy())\n",
    "        result = pd.DataFrame({'Label':label,\n",
    "                               'Precision':precision,\n",
    "                               'recall':recall,\n",
    "                               'f1score':f1score,\n",
    "                               'accuracy':accuracy})\n",
    "        return result"
   ]
  },
  {
   "cell_type": "code",
   "execution_count": 92,
   "id": "423addc1",
   "metadata": {},
   "outputs": [],
   "source": [
    "c=Confusion_Matrix(predicted_list,ground_truth)"
   ]
  },
  {
   "cell_type": "code",
   "execution_count": 93,
   "id": "3f004532",
   "metadata": {},
   "outputs": [
    {
     "name": "stderr",
     "output_type": "stream",
     "text": [
      "/var/folders/kg/8jhtm2gx4z1gz4877775tn980000gn/T/ipykernel_3765/446678003.py:12: RuntimeWarning: invalid value encountered in long_scalars\n",
      "  recall = self.con_matrix[label, label] / row.sum()\n"
     ]
    },
    {
     "data": {
      "text/html": [
       "<div>\n",
       "<style scoped>\n",
       "    .dataframe tbody tr th:only-of-type {\n",
       "        vertical-align: middle;\n",
       "    }\n",
       "\n",
       "    .dataframe tbody tr th {\n",
       "        vertical-align: top;\n",
       "    }\n",
       "\n",
       "    .dataframe thead th {\n",
       "        text-align: right;\n",
       "    }\n",
       "</style>\n",
       "<table border=\"1\" class=\"dataframe\">\n",
       "  <thead>\n",
       "    <tr style=\"text-align: right;\">\n",
       "      <th></th>\n",
       "      <th>Label</th>\n",
       "      <th>Precision</th>\n",
       "      <th>recall</th>\n",
       "      <th>f1score</th>\n",
       "      <th>accuracy</th>\n",
       "    </tr>\n",
       "  </thead>\n",
       "  <tbody>\n",
       "    <tr>\n",
       "      <th>0</th>\n",
       "      <td>0</td>\n",
       "      <td>1.0</td>\n",
       "      <td>0.5</td>\n",
       "      <td>0.666667</td>\n",
       "      <td>0.6</td>\n",
       "    </tr>\n",
       "    <tr>\n",
       "      <th>1</th>\n",
       "      <td>1</td>\n",
       "      <td>0.5</td>\n",
       "      <td>1.0</td>\n",
       "      <td>0.666667</td>\n",
       "      <td>0.6</td>\n",
       "    </tr>\n",
       "    <tr>\n",
       "      <th>2</th>\n",
       "      <td>2</td>\n",
       "      <td>1.0</td>\n",
       "      <td>0.5</td>\n",
       "      <td>0.666667</td>\n",
       "      <td>0.6</td>\n",
       "    </tr>\n",
       "    <tr>\n",
       "      <th>3</th>\n",
       "      <td>3</td>\n",
       "      <td>0.0</td>\n",
       "      <td>NaN</td>\n",
       "      <td>NaN</td>\n",
       "      <td>0.6</td>\n",
       "    </tr>\n",
       "  </tbody>\n",
       "</table>\n",
       "</div>"
      ],
      "text/plain": [
       "   Label  Precision  recall   f1score  accuracy\n",
       "0      0        1.0     0.5  0.666667       0.6\n",
       "1      1        0.5     1.0  0.666667       0.6\n",
       "2      2        1.0     0.5  0.666667       0.6\n",
       "3      3        0.0     NaN       NaN       0.6"
      ]
     },
     "execution_count": 93,
     "metadata": {},
     "output_type": "execute_result"
    }
   ],
   "source": [
    "c.printEvaluation()"
   ]
  },
  {
   "cell_type": "code",
   "execution_count": 40,
   "id": "ba363bca",
   "metadata": {},
   "outputs": [],
   "source": [
    "#l = [33,8,9,6,40,4,18,5,27]\n",
    "mat = np.array([[61,9,],[12,46]])"
   ]
  },
  {
   "cell_type": "code",
   "execution_count": 41,
   "id": "da8edd38",
   "metadata": {},
   "outputs": [
    {
     "data": {
      "text/plain": [
       "array([[61,  9],\n",
       "       [12, 46]])"
      ]
     },
     "execution_count": 41,
     "metadata": {},
     "output_type": "execute_result"
    }
   ],
   "source": [
    "mat"
   ]
  },
  {
   "cell_type": "code",
   "execution_count": 70,
   "id": "65e2d7e2",
   "metadata": {},
   "outputs": [],
   "source": [
    "t1=[2,4,7,8]\n",
    "t2=[4,5,5,2]\n",
    "c_m = confusion_matrix(t1,t2)"
   ]
  },
  {
   "cell_type": "code",
   "execution_count": 71,
   "id": "0dad87bc",
   "metadata": {},
   "outputs": [
    {
     "data": {
      "text/plain": [
       "array([[0, 1, 0, 0, 0],\n",
       "       [0, 0, 1, 0, 0],\n",
       "       [0, 0, 0, 0, 0],\n",
       "       [0, 0, 1, 0, 0],\n",
       "       [1, 0, 0, 0, 0]])"
      ]
     },
     "execution_count": 71,
     "metadata": {},
     "output_type": "execute_result"
    }
   ],
   "source": [
    "c_m"
   ]
  },
  {
   "cell_type": "code",
   "execution_count": 72,
   "id": "4c77e8ab",
   "metadata": {},
   "outputs": [
    {
     "ename": "ValueError",
     "evalue": "too many values to unpack (expected 4)",
     "output_type": "error",
     "traceback": [
      "\u001b[0;31m---------------------------------------------------------------------------\u001b[0m",
      "\u001b[0;31mValueError\u001b[0m                                Traceback (most recent call last)",
      "\u001b[0;32m/var/folders/kg/8jhtm2gx4z1gz4877775tn980000gn/T/ipykernel_3765/2012526390.py\u001b[0m in \u001b[0;36m<module>\u001b[0;34m\u001b[0m\n\u001b[0;32m----> 1\u001b[0;31m \u001b[0mtn\u001b[0m\u001b[0;34m,\u001b[0m\u001b[0mfp\u001b[0m\u001b[0;34m,\u001b[0m\u001b[0mfn\u001b[0m\u001b[0;34m,\u001b[0m\u001b[0mtp\u001b[0m\u001b[0;34m=\u001b[0m\u001b[0mconfusion_matrix\u001b[0m\u001b[0;34m(\u001b[0m\u001b[0mt1\u001b[0m\u001b[0;34m,\u001b[0m\u001b[0mt2\u001b[0m\u001b[0;34m)\u001b[0m\u001b[0;34m.\u001b[0m\u001b[0mravel\u001b[0m\u001b[0;34m(\u001b[0m\u001b[0;34m)\u001b[0m\u001b[0;34m\u001b[0m\u001b[0;34m\u001b[0m\u001b[0m\n\u001b[0m",
      "\u001b[0;31mValueError\u001b[0m: too many values to unpack (expected 4)"
     ]
    }
   ],
   "source": [
    "tn,fp,fn,tp=confusion_matrix(t1,t2).ravel()"
   ]
  },
  {
   "cell_type": "code",
   "execution_count": 63,
   "id": "28222e1e",
   "metadata": {},
   "outputs": [
    {
     "data": {
      "text/plain": [
       "0"
      ]
     },
     "execution_count": 63,
     "metadata": {},
     "output_type": "execute_result"
    }
   ],
   "source": [
    "tn"
   ]
  },
  {
   "cell_type": "code",
   "execution_count": 64,
   "id": "0c155f13",
   "metadata": {},
   "outputs": [
    {
     "data": {
      "text/plain": [
       "1"
      ]
     },
     "execution_count": 64,
     "metadata": {},
     "output_type": "execute_result"
    }
   ],
   "source": [
    "fp"
   ]
  },
  {
   "cell_type": "code",
   "execution_count": 65,
   "id": "21488f32",
   "metadata": {},
   "outputs": [
    {
     "data": {
      "text/plain": [
       "1"
      ]
     },
     "execution_count": 65,
     "metadata": {},
     "output_type": "execute_result"
    }
   ],
   "source": [
    "fn"
   ]
  },
  {
   "cell_type": "code",
   "execution_count": 66,
   "id": "9e504bb7",
   "metadata": {},
   "outputs": [
    {
     "data": {
      "text/plain": [
       "0"
      ]
     },
     "execution_count": 66,
     "metadata": {},
     "output_type": "execute_result"
    }
   ],
   "source": [
    "tp"
   ]
  },
  {
   "cell_type": "code",
   "execution_count": null,
   "id": "e9d3d823",
   "metadata": {},
   "outputs": [],
   "source": []
  }
 ],
 "metadata": {
  "kernelspec": {
   "display_name": "Python 3 (ipykernel)",
   "language": "python",
   "name": "python3"
  },
  "language_info": {
   "codemirror_mode": {
    "name": "ipython",
    "version": 3
   },
   "file_extension": ".py",
   "mimetype": "text/x-python",
   "name": "python",
   "nbconvert_exporter": "python",
   "pygments_lexer": "ipython3",
   "version": "3.9.7"
  }
 },
 "nbformat": 4,
 "nbformat_minor": 5
}
