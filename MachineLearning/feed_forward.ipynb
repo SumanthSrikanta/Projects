{
 "cells": [
  {
   "cell_type": "code",
   "execution_count": 2,
   "id": "6b1c4d6c",
   "metadata": {},
   "outputs": [
    {
     "data": {
      "text/plain": [
       "array([0.5829885 , 0.46114465, 0.91825706, 0.47720045, 0.37027556])"
      ]
     },
     "execution_count": 2,
     "metadata": {},
     "output_type": "execute_result"
    }
   ],
   "source": [
    "import numpy as np\n",
    "def feed_forward(x,y):\n",
    "    \n",
    "    w1 = np.random.randn()\n",
    "    w2 = np.random.randn()\n",
    "    w3 = np.random.randn()\n",
    "    w4 = np.random.randn()\n",
    "    w5 = np.random.randn()\n",
    "    w6 = np.random.randn()\n",
    "    b1 = np.random.randn()\n",
    "    b2 = np.random.randn()\n",
    "    b3 = np.random.randn()\n",
    "    x1 = x2 = x\n",
    "    y1 = y2 = y\n",
    "    a1 = w1*x1 + w2*x2 + b1\n",
    "    h1 = sig_activation(a1)\n",
    "    a2 = w3*y1 + w4*y2 + b2\n",
    "    h2 = sig_activation(a2)\n",
    "    a3 = w5*h1 + w6*h2 + b3\n",
    "    h3 = sig_activation(a3)\n",
    "    return h3\n",
    "    \n",
    "def sig_activation(x):\n",
    "    a = 1.0/(1.0 + np.exp(-x))\n",
    "    return a\n",
    "    \n",
    "def call_output():\n",
    "    arr1= np.random.randint(1,10,5)\n",
    "    arr2= np.random.randint(1,10,5)\n",
    "    output = []\n",
    "    for x,y in zip(arr1,arr2):\n",
    "        op = feed_forward(x,y)\n",
    "        output.append(op)\n",
    "    return np.array(output)\n",
    "call_output()"
   ]
  },
  {
   "cell_type": "code",
   "execution_count": null,
   "id": "7ac9fb0e",
   "metadata": {},
   "outputs": [],
   "source": []
  }
 ],
 "metadata": {
  "kernelspec": {
   "display_name": "Python 3 (ipykernel)",
   "language": "python",
   "name": "python3"
  },
  "language_info": {
   "codemirror_mode": {
    "name": "ipython",
    "version": 3
   },
   "file_extension": ".py",
   "mimetype": "text/x-python",
   "name": "python",
   "nbconvert_exporter": "python",
   "pygments_lexer": "ipython3",
   "version": "3.9.7"
  }
 },
 "nbformat": 4,
 "nbformat_minor": 5
}
