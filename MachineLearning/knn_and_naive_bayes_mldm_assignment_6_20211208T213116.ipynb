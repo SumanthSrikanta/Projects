{
 "cells": [
  {
   "cell_type": "code",
   "execution_count": 1,
   "metadata": {},
   "outputs": [],
   "source": [
    "#importing Libraries\n",
    "import pandas as pd\n",
    "import numpy as np\n",
    "from scipy.spatial import distance\n",
    "from collections import Counter\n"
   ]
  },
  {
   "cell_type": "code",
   "execution_count": 3,
   "metadata": {},
   "outputs": [],
   "source": [
    "#loading data\n",
    "data = pd.read_excel(\"C:/Users/ch likitha/Desktop/mldm/assignment6.xlsx\")\n",
    "data.to_csv (r'C:/Users/ch likitha/Desktop/mldm/assignment6.csv', encoding='utf-8', index=False)\n",
    "iris=pd.read_csv('C:/Users/ch likitha/Desktop/mldm/assignment6.csv')"
   ]
  },
  {
   "cell_type": "code",
   "execution_count": 4,
   "metadata": {},
   "outputs": [],
   "source": [
    "#splitting cols and converting data to array\n",
    "X_train = iris.iloc[:, 0:4].to_numpy()\n",
    "Y_train = iris.iloc[:, 4].to_numpy()\n"
   ]
  },
  {
   "cell_type": "code",
   "execution_count": 23,
   "metadata": {},
   "outputs": [],
   "source": [
    "#knn with euclidean distance\n",
    "class KNN_Euclidean_Distance:\n",
    "    def __init__(self, k):\n",
    "        self.k = k\n",
    "\n",
    "    def predict(self,X_test):\n",
    "        output = []\n",
    "        for i in range(len(X_test)):\n",
    "            d = []\n",
    "            no_of_votes = []\n",
    "            for j in range(len(X_train)):\n",
    "                dist = distance.euclidean(X_train[j] , X_test[i])\n",
    "                d.append([dist, j])\n",
    "            d.sort()\n",
    "            d = d[0:self.k]\n",
    "            for d, j in d:\n",
    "                no_of_votes.append(Y_train[j])\n",
    "            ans = Counter(no_of_votes).most_common(1)[0][0]\n",
    "            output.append(ans)\n",
    "\n",
    "        return output"
   ]
  },
  {
   "cell_type": "code",
   "execution_count": 17,
   "metadata": {},
   "outputs": [
    {
     "name": "stdout",
     "output_type": "stream",
     "text": [
      "['versicolor']\n"
     ]
    }
   ],
   "source": [
    "cls = KNN_Euclidean_Distance(3)\n",
    "x_new=[[8.2,2.6,3.2,1.8]]\n",
    "y_predicted = cls.predict(x_new)\n",
    "\n",
    "print(y_predicted)"
   ]
  },
  {
   "cell_type": "code",
   "execution_count": 18,
   "metadata": {},
   "outputs": [
    {
     "name": "stdout",
     "output_type": "stream",
     "text": [
      "['versicolor']\n"
     ]
    }
   ],
   "source": [
    "cls = KNN_Euclidean_Distance(5)\n",
    "x_new=[[8.2,2.6,3.2,1.8]]\n",
    "y_predicted = cls.predict(x_new)\n",
    "\n",
    "print(y_predicted)"
   ]
  },
  {
   "cell_type": "code",
   "execution_count": 19,
   "metadata": {},
   "outputs": [
    {
     "name": "stdout",
     "output_type": "stream",
     "text": [
      "['versicolor']\n"
     ]
    }
   ],
   "source": [
    "cls = KNN_Euclidean_Distance(7)\n",
    "x_new=[[8.2,2.6,3.2,1.8]]\n",
    "y_predicted = cls.predict(x_new)\n",
    "\n",
    "print(y_predicted)"
   ]
  },
  {
   "cell_type": "code",
   "execution_count": 27,
   "metadata": {},
   "outputs": [],
   "source": [
    "#knn with manhattan distance\n",
    "class KNN_Manhattan_Distance:\n",
    "    def __init__(self, k):\n",
    "        self.k = k\n",
    "        \n",
    "    def manhattan(self,a, b):\n",
    "        return sum(abs(a-b))\n",
    "\n",
    "    def predict(self,X_test):\n",
    "        output = []\n",
    "        for i in range(len(X_test)):\n",
    "            d = []\n",
    "            no_of_votes = []\n",
    "            for j in range(len(X_train)):\n",
    "                dist = self.manhattan(X_train[j] , X_test[i])\n",
    "                d.append([dist, j])\n",
    "            d.sort()\n",
    "            d = d[0:self.k]\n",
    "            for d, j in d:\n",
    "                no_of_votes.append(Y_train[j])\n",
    "            ans = Counter(no_of_votes).most_common(1)[0][0]\n",
    "            output.append(ans)\n",
    "\n",
    "        return output"
   ]
  },
  {
   "cell_type": "code",
   "execution_count": 28,
   "metadata": {},
   "outputs": [
    {
     "name": "stdout",
     "output_type": "stream",
     "text": [
      "['versicolor']\n"
     ]
    }
   ],
   "source": [
    "cls = KNN_Manhattan_Distance(3)\n",
    "x_new=[[8.2,2.6,3.2,1.8]]\n",
    "y_predicted = cls.predict(x_new)\n",
    "\n",
    "print(y_predicted)"
   ]
  },
  {
   "cell_type": "code",
   "execution_count": 29,
   "metadata": {},
   "outputs": [
    {
     "name": "stdout",
     "output_type": "stream",
     "text": [
      "['versicolor']\n"
     ]
    }
   ],
   "source": [
    "cls = KNN_Manhattan_Distance(5)\n",
    "x_new=[[8.2,2.6,3.2,1.8]]\n",
    "y_predicted = cls.predict(x_new)\n",
    "\n",
    "print(y_predicted)"
   ]
  },
  {
   "cell_type": "code",
   "execution_count": 30,
   "metadata": {},
   "outputs": [
    {
     "name": "stdout",
     "output_type": "stream",
     "text": [
      "['versicolor']\n"
     ]
    }
   ],
   "source": [
    "cls = KNN_Manhattan_Distance(7)\n",
    "x_new=[[8.2,2.6,3.2,1.8]]\n",
    "y_predicted = cls.predict(x_new)\n",
    "\n",
    "print(y_predicted)"
   ]
  },
  {
   "cell_type": "code",
   "execution_count": null,
   "metadata": {},
   "outputs": [],
   "source": []
  }
 ],
 "metadata": {
  "kernelspec": {
   "display_name": "Python 3",
   "language": "python",
   "name": "python3"
  },
  "language_info": {
   "codemirror_mode": {
    "name": "ipython",
    "version": 3
   },
   "file_extension": ".py",
   "mimetype": "text/x-python",
   "name": "python",
   "nbconvert_exporter": "python",
   "pygments_lexer": "ipython3",
   "version": "3.8.5"
  }
 },
 "nbformat": 4,
 "nbformat_minor": 4
}
