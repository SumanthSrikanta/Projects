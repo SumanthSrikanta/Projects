{
 "cells": [
  {
   "cell_type": "code",
   "execution_count": 1,
   "id": "db9bc7e9-778a-4cdc-99f4-b2ec0d55438c",
   "metadata": {},
   "outputs": [],
   "source": [
    "#importing libraries\n",
    "import pandas as pd\n",
    "import numpy as np"
   ]
  },
  {
   "cell_type": "code",
   "execution_count": 2,
   "id": "86209032-4dec-44a3-8d6e-f41794507a30",
   "metadata": {},
   "outputs": [],
   "source": [
    "#loading train and test data sets\n",
    "train_data = pd.read_csv('train.csv')\n",
    "test_data = pd.read_csv('test.csv')"
   ]
  },
  {
   "cell_type": "code",
   "execution_count": 3,
   "id": "71a5c870-8500-44e2-8563-fab486037ebf",
   "metadata": {},
   "outputs": [
    {
     "name": "stdout",
     "output_type": "stream",
     "text": [
      "<class 'pandas.core.frame.DataFrame'>\n",
      "RangeIndex: 700 entries, 0 to 699\n",
      "Data columns (total 2 columns):\n",
      " #   Column  Non-Null Count  Dtype  \n",
      "---  ------  --------------  -----  \n",
      " 0   x       700 non-null    float64\n",
      " 1   y       699 non-null    float64\n",
      "dtypes: float64(2)\n",
      "memory usage: 11.1 KB\n"
     ]
    }
   ],
   "source": [
    "train_data.info()"
   ]
  },
  {
   "cell_type": "code",
   "execution_count": 4,
   "id": "78c23a9b-a075-49a2-abab-c71c8a3e6636",
   "metadata": {},
   "outputs": [
    {
     "name": "stdout",
     "output_type": "stream",
     "text": [
      "<class 'pandas.core.frame.DataFrame'>\n",
      "RangeIndex: 300 entries, 0 to 299\n",
      "Data columns (total 2 columns):\n",
      " #   Column  Non-Null Count  Dtype  \n",
      "---  ------  --------------  -----  \n",
      " 0   x       300 non-null    int64  \n",
      " 1   y       300 non-null    float64\n",
      "dtypes: float64(1), int64(1)\n",
      "memory usage: 4.8 KB\n"
     ]
    }
   ],
   "source": [
    "test_data.info()"
   ]
  },
  {
   "cell_type": "code",
   "execution_count": 5,
   "id": "7923c37e-4d3f-48e0-b537-ce3d8e73592c",
   "metadata": {},
   "outputs": [],
   "source": [
    "#dropping null values in train data\n",
    "train_data=train_data.dropna()"
   ]
  },
  {
   "cell_type": "code",
   "execution_count": 6,
   "id": "caa65479-6193-4261-9b48-3920469b5242",
   "metadata": {},
   "outputs": [],
   "source": [
    "#calculating mean of X and Y columns\n",
    "train_X = train_data['x'].values\n",
    "train_Y = train_data['y'].values\n",
    "\n",
    "mean_X= np.mean(train_X)\n",
    "mean_Y=np.mean(train_Y)"
   ]
  },
  {
   "cell_type": "code",
   "execution_count": 7,
   "id": "87f712e4-b280-4f8f-98a7-2cc3f0bb79d9",
   "metadata": {},
   "outputs": [],
   "source": [
    "#calculating slope and intercept using train data\n",
    "\n",
    "numerator = 0\n",
    "denominator = 0\n",
    "\n",
    "for i in range(len(train_data)):\n",
    "    numerator += (train_X[i] - mean_X) * (train_Y[i] - mean_Y)\n",
    "    denominator += (train_X[i] - mean_X) ** 2\n",
    "\n",
    "slope_m = numerator / denominator\n",
    "intercept_c = mean_Y - (slope_m * mean_X)\n"
   ]
  },
  {
   "cell_type": "code",
   "execution_count": 8,
   "id": "d4563269-0675-4702-b5e5-74dcbb12e8f1",
   "metadata": {},
   "outputs": [
    {
     "name": "stdout",
     "output_type": "stream",
     "text": [
      "1.0006563818563046 -0.10726546430100825\n"
     ]
    }
   ],
   "source": [
    "print(slope_m,intercept_c)"
   ]
  },
  {
   "cell_type": "code",
   "execution_count": 9,
   "id": "cca0c326-bd92-41eb-a967-ba5577372e54",
   "metadata": {},
   "outputs": [],
   "source": [
    "#predicting Y values using slope and intercept in test data\n",
    "\n",
    "test_X = test_data['x'].values\n",
    "test_Y = test_data['y'].values\n",
    "\n",
    "Y_pred=[]\n",
    "\n",
    "for i in range(len(test_X)):\n",
    "    y=intercept_c + slope_m * test_X[i]\n",
    "    Y_pred.append(y)"
   ]
  },
  {
   "cell_type": "code",
   "execution_count": 12,
   "id": "57cb3e35-6b31-4b31-aee9-2e41d2b34815",
   "metadata": {},
   "outputs": [],
   "source": [
    "#calculating rmse for predicted and actual values\n",
    "\n",
    "N=len(test_Y)\n",
    "diff=0\n",
    "\n",
    "for i in range(len(test_Y)):\n",
    "    diff += (test_Y[i] - Y_pred[i]) ** 2\n",
    "    \n",
    "MSE = diff/N\n",
    "RMSE = np.sqrt(MSE)"
   ]
  },
  {
   "cell_type": "code",
   "execution_count": 13,
   "id": "60de7a4c-17f4-41a7-864c-aece9f91655a",
   "metadata": {},
   "outputs": [
    {
     "name": "stdout",
     "output_type": "stream",
     "text": [
      "3.0713062680298253\n"
     ]
    }
   ],
   "source": [
    "print(RMSE)"
   ]
  },
  {
   "cell_type": "code",
   "execution_count": null,
   "id": "47618c43-eb73-434c-9181-a14d1400328a",
   "metadata": {},
   "outputs": [],
   "source": []
  }
 ],
 "metadata": {
  "kernelspec": {
   "display_name": "Python 3 (ipykernel)",
   "language": "python",
   "name": "python3"
  },
  "language_info": {
   "codemirror_mode": {
    "name": "ipython",
    "version": 3
   },
   "file_extension": ".py",
   "mimetype": "text/x-python",
   "name": "python",
   "nbconvert_exporter": "python",
   "pygments_lexer": "ipython3",
   "version": "3.8.2"
  }
 },
 "nbformat": 4,
 "nbformat_minor": 5
}
