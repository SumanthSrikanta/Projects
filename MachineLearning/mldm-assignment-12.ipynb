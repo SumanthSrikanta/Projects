{
 "cells": [
  {
   "cell_type": "code",
   "execution_count": 85,
   "id": "48442e41",
   "metadata": {},
   "outputs": [],
   "source": [
    "import random\n",
    "import pandas as pd\n",
    "import numpy as np\n",
    "from sklearn.metrics import confusion_matrix\n",
    " "
   ]
  },
  {
   "cell_type": "code",
   "execution_count": 94,
   "id": "8322655b",
   "metadata": {},
   "outputs": [
    {
     "name": "stdout",
     "output_type": "stream",
     "text": [
      "[1, 0, 2, 1, 0] [0, 1, 2, 1, 0]\n"
     ]
    }
   ],
   "source": [
    "predicted_list= []\n",
    "ground_truth = []\n",
    "\n",
    "for i in range(5):\n",
    "    m = random.randint(0,2)\n",
    "    n = random.randint(0,2)\n",
    "    predicted_list.append(m)\n",
    "    ground_truth.append(n)\n",
    "print(predicted_list,ground_truth)"
   ]
  },
  {
   "cell_type": "code",
   "execution_count": 109,
   "id": "75979215",
   "metadata": {},
   "outputs": [],
   "source": [
    "c_m=np.array([[46,9,2],[12,61,3],[2,0,25]])"
   ]
  },
  {
   "cell_type": "code",
   "execution_count": 103,
   "id": "5efcfec6",
   "metadata": {},
   "outputs": [],
   "source": [
    "class Confusion_Matrix:\n",
    "    def __init__(self,con_matrix):\n",
    "        #self.predicted_list = predicted_list\n",
    "        #self.ground_truth = ground_truth\n",
    "        #self.con_matrix = confusion_matrix(predicted_list,ground_truth)\n",
    "        self.con_matrix=con_matrix\n",
    "    def getPrecision(self,label):\n",
    "        tp_fp = self.con_matrix[:, label].sum()\n",
    "        tp = self.con_matrix[label, label]\n",
    "        precision =  tp/ tp_fp\n",
    "        return precision\n",
    "    def getRecall(self,label):\n",
    "        tp_fn = self.con_matrix[label, :].sum()\n",
    "        tp = self.con_matrix[label, label]\n",
    "        recall =  tp/ tp_fn\n",
    "        return recall\n",
    "    def getF1Score(self,label):\n",
    "        f1score = 2*self.getPrecision(label)*self.getRecall(label)/(self.getPrecision(label)+self.getRecall(label))\n",
    "        return f1score\n",
    "    def getAccuracy(self,label):\n",
    "        tp_fp_tn_fn = self.con_matrix.sum()\n",
    "        tp = self.con_matrix[label, label]\n",
    "        fp = self.con_matrix[:, label].sum() - tp\n",
    "        fn = self.con_matrix[label, :].sum() - tp\n",
    "        tn = tp_fp_tn_fn - tp - fp - fn\n",
    "        tp_tn=tp+tn\n",
    "        return tp_tn / tp_fp_tn_fn \n",
    "    def printEvaluation(self):\n",
    "        label=[]\n",
    "        precision=[]\n",
    "        recall=[]\n",
    "        f1score=[]\n",
    "        accuracy=[]\n",
    "\n",
    "        for l in range(len(self.con_matrix)): \n",
    "            label.append(l)\n",
    "            precision.append(self.getPrecision(l))\n",
    "            recall.append(self.getRecall(l))\n",
    "            f1score.append(self.getF1Score(l))\n",
    "            accuracy.append(self.getAccuracy(l))\n",
    "        result = pd.DataFrame({'Label':label,\n",
    "                               'Precision':precision,\n",
    "                               'recall':recall,\n",
    "                               'f1score':f1score,\n",
    "                               'accuracy':accuracy})\n",
    "        return result"
   ]
  },
  {
   "cell_type": "code",
   "execution_count": 104,
   "id": "97e2ab1c",
   "metadata": {},
   "outputs": [],
   "source": [
    "c=Confusion_Matrix(c_m)"
   ]
  },
  {
   "cell_type": "code",
   "execution_count": 105,
   "id": "16b2dcb9",
   "metadata": {},
   "outputs": [
    {
     "data": {
      "text/html": [
       "<div>\n",
       "<style scoped>\n",
       "    .dataframe tbody tr th:only-of-type {\n",
       "        vertical-align: middle;\n",
       "    }\n",
       "\n",
       "    .dataframe tbody tr th {\n",
       "        vertical-align: top;\n",
       "    }\n",
       "\n",
       "    .dataframe thead th {\n",
       "        text-align: right;\n",
       "    }\n",
       "</style>\n",
       "<table border=\"1\" class=\"dataframe\">\n",
       "  <thead>\n",
       "    <tr style=\"text-align: right;\">\n",
       "      <th></th>\n",
       "      <th>Label</th>\n",
       "      <th>Precision</th>\n",
       "      <th>recall</th>\n",
       "      <th>f1score</th>\n",
       "      <th>accuracy</th>\n",
       "    </tr>\n",
       "  </thead>\n",
       "  <tbody>\n",
       "    <tr>\n",
       "      <th>0</th>\n",
       "      <td>0</td>\n",
       "      <td>0.766667</td>\n",
       "      <td>0.807018</td>\n",
       "      <td>0.786325</td>\n",
       "      <td>0.84375</td>\n",
       "    </tr>\n",
       "    <tr>\n",
       "      <th>1</th>\n",
       "      <td>1</td>\n",
       "      <td>0.871429</td>\n",
       "      <td>0.802632</td>\n",
       "      <td>0.835616</td>\n",
       "      <td>0.85000</td>\n",
       "    </tr>\n",
       "    <tr>\n",
       "      <th>2</th>\n",
       "      <td>2</td>\n",
       "      <td>0.833333</td>\n",
       "      <td>0.925926</td>\n",
       "      <td>0.877193</td>\n",
       "      <td>0.95625</td>\n",
       "    </tr>\n",
       "  </tbody>\n",
       "</table>\n",
       "</div>"
      ],
      "text/plain": [
       "   Label  Precision    recall   f1score  accuracy\n",
       "0      0   0.766667  0.807018  0.786325   0.84375\n",
       "1      1   0.871429  0.802632  0.835616   0.85000\n",
       "2      2   0.833333  0.925926  0.877193   0.95625"
      ]
     },
     "execution_count": 105,
     "metadata": {},
     "output_type": "execute_result"
    }
   ],
   "source": [
    "c.printEvaluation()"
   ]
  },
  {
   "cell_type": "code",
   "execution_count": 116,
   "id": "311ee57d",
   "metadata": {},
   "outputs": [],
   "source": [
    "def F1Score(con_matrix):\n",
    "    f1_score=[]\n",
    "    for l in range(len(con_matrix)): \n",
    "        tp_fp = con_matrix[:, l].sum()\n",
    "        tp = con_matrix[l, l]\n",
    "        precision =  tp/ tp_fp\n",
    "        tp_fn = con_matrix[l, :].sum()\n",
    "        recall =  tp/ tp_fn\n",
    "        f1score = 2*precision*recall/precision+recall\n",
    "        f1_score.append(f1score)\n",
    "    return f1_score"
   ]
  },
  {
   "cell_type": "code",
   "execution_count": 117,
   "id": "e7a931fd",
   "metadata": {},
   "outputs": [
    {
     "data": {
      "text/plain": [
       "[2.4210526315789473, 2.4078947368421053, 2.7777777777777777]"
      ]
     },
     "execution_count": 117,
     "metadata": {},
     "output_type": "execute_result"
    }
   ],
   "source": [
    "F1Score(c_m)"
   ]
  },
  {
   "cell_type": "code",
   "execution_count": 123,
   "id": "1176b465",
   "metadata": {},
   "outputs": [],
   "source": [
    "def Micro_Average_Precision(con_matrix):\n",
    "    precision=0\n",
    "    tp=0\n",
    "    tp_fp=0\n",
    "    for l in range(len(con_matrix)): \n",
    "        tp_fp += con_matrix[:, l].sum()\n",
    "        tp += con_matrix[l, l]\n",
    "    precision = tp/tp_fp\n",
    "    return precision"
   ]
  },
  {
   "cell_type": "code",
   "execution_count": 124,
   "id": "c5c61baf",
   "metadata": {},
   "outputs": [
    {
     "data": {
      "text/plain": [
       "0.825"
      ]
     },
     "execution_count": 124,
     "metadata": {},
     "output_type": "execute_result"
    }
   ],
   "source": [
    "Micro_Average_Precision(c_m)"
   ]
  },
  {
   "cell_type": "code",
   "execution_count": 125,
   "id": "abd873d0",
   "metadata": {},
   "outputs": [],
   "source": [
    "def Macro_Average_Precision(con_matrix):\n",
    "    precision=0\n",
    "    for l in range(len(con_matrix)): \n",
    "        tp_fp = con_matrix[:, l].sum()\n",
    "        tp = con_matrix[l, l]\n",
    "        p =  tp/ tp_fp\n",
    "        precision+=p\n",
    "    return precision/len(con_matrix)\n",
    "    "
   ]
  },
  {
   "cell_type": "code",
   "execution_count": 126,
   "id": "b15a4e79",
   "metadata": {},
   "outputs": [
    {
     "data": {
      "text/plain": [
       "0.8238095238095239"
      ]
     },
     "execution_count": 126,
     "metadata": {},
     "output_type": "execute_result"
    }
   ],
   "source": [
    "Macro_Average_Precision(c_m)"
   ]
  },
  {
   "cell_type": "code",
   "execution_count": null,
   "id": "d504a1f1",
   "metadata": {},
   "outputs": [],
   "source": []
  }
 ],
 "metadata": {
  "kernelspec": {
   "display_name": "Python 3 (ipykernel)",
   "language": "python",
   "name": "python3"
  },
  "language_info": {
   "codemirror_mode": {
    "name": "ipython",
    "version": 3
   },
   "file_extension": ".py",
   "mimetype": "text/x-python",
   "name": "python",
   "nbconvert_exporter": "python",
   "pygments_lexer": "ipython3",
   "version": "3.9.7"
  }
 },
 "nbformat": 4,
 "nbformat_minor": 5
}
