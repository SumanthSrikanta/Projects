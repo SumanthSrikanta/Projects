{
 "cells": [
  {
   "cell_type": "code",
   "execution_count": 33,
   "id": "016b781d-2503-44f9-8126-84d6be8db9eb",
   "metadata": {},
   "outputs": [
    {
     "name": "stdout",
     "output_type": "stream",
     "text": [
      "<class 'pandas.core.frame.DataFrame'>\n",
      "RangeIndex: 700 entries, 0 to 699\n",
      "Data columns (total 2 columns):\n",
      " #   Column  Non-Null Count  Dtype  \n",
      "---  ------  --------------  -----  \n",
      " 0   x       700 non-null    float64\n",
      " 1   y       699 non-null    float64\n",
      "dtypes: float64(2)\n",
      "memory usage: 11.1 KB\n",
      "<class 'pandas.core.frame.DataFrame'>\n",
      "RangeIndex: 300 entries, 0 to 299\n",
      "Data columns (total 2 columns):\n",
      " #   Column  Non-Null Count  Dtype  \n",
      "---  ------  --------------  -----  \n",
      " 0   x       300 non-null    int64  \n",
      " 1   y       300 non-null    float64\n",
      "dtypes: float64(1), int64(1)\n",
      "memory usage: 4.8 KB\n"
     ]
    }
   ],
   "source": [
    "import pandas as pd\n",
    "\n",
    "train_data = pd.read_csv('train.csv')\n",
    "test_data = pd.read_csv('test.csv')\n",
    "train_data.info()\n",
    "test_data.info()"
   ]
  },
  {
   "cell_type": "code",
   "execution_count": 31,
   "id": "a5c8dac8-c7a2-4de5-a490-917b203e12e2",
   "metadata": {},
   "outputs": [
    {
     "name": "stdout",
     "output_type": "stream",
     "text": [
      "<class 'pandas.core.frame.DataFrame'>\n",
      "Int64Index: 699 entries, 0 to 699\n",
      "Data columns (total 2 columns):\n",
      " #   Column  Non-Null Count  Dtype  \n",
      "---  ------  --------------  -----  \n",
      " 0   x       699 non-null    float64\n",
      " 1   y       699 non-null    float64\n",
      "dtypes: float64(2)\n",
      "memory usage: 16.4 KB\n"
     ]
    }
   ],
   "source": [
    "train_data=train_data.dropna()\n",
    "train_data.info()"
   ]
  },
  {
   "cell_type": "code",
   "execution_count": 34,
   "id": "0d77f6fd-10bd-491e-94c5-2136f0922dd5",
   "metadata": {},
   "outputs": [
    {
     "name": "stdout",
     "output_type": "stream",
     "text": [
      "<class 'pandas.core.frame.DataFrame'>\n",
      "Int64Index: 300 entries, 0 to 299\n",
      "Data columns (total 2 columns):\n",
      " #   Column  Non-Null Count  Dtype  \n",
      "---  ------  --------------  -----  \n",
      " 0   x       300 non-null    int64  \n",
      " 1   y       300 non-null    float64\n",
      "dtypes: float64(1), int64(1)\n",
      "memory usage: 7.0 KB\n"
     ]
    }
   ],
   "source": [
    "test_data=test_data.dropna()\n",
    "test_data.info()"
   ]
  },
  {
   "cell_type": "code",
   "execution_count": 4,
   "id": "ac20c701-bbad-4759-8b47-0a978aa6df01",
   "metadata": {},
   "outputs": [
    {
     "data": {
      "text/html": [
       "<div>\n",
       "<style scoped>\n",
       "    .dataframe tbody tr th:only-of-type {\n",
       "        vertical-align: middle;\n",
       "    }\n",
       "\n",
       "    .dataframe tbody tr th {\n",
       "        vertical-align: top;\n",
       "    }\n",
       "\n",
       "    .dataframe thead th {\n",
       "        text-align: right;\n",
       "    }\n",
       "</style>\n",
       "<table border=\"1\" class=\"dataframe\">\n",
       "  <thead>\n",
       "    <tr style=\"text-align: right;\">\n",
       "      <th></th>\n",
       "      <th>x</th>\n",
       "      <th>y</th>\n",
       "    </tr>\n",
       "  </thead>\n",
       "  <tbody>\n",
       "    <tr>\n",
       "      <th>0</th>\n",
       "      <td>77</td>\n",
       "      <td>79.775152</td>\n",
       "    </tr>\n",
       "    <tr>\n",
       "      <th>1</th>\n",
       "      <td>21</td>\n",
       "      <td>23.177279</td>\n",
       "    </tr>\n",
       "    <tr>\n",
       "      <th>2</th>\n",
       "      <td>22</td>\n",
       "      <td>25.609262</td>\n",
       "    </tr>\n",
       "    <tr>\n",
       "      <th>3</th>\n",
       "      <td>20</td>\n",
       "      <td>17.857388</td>\n",
       "    </tr>\n",
       "    <tr>\n",
       "      <th>4</th>\n",
       "      <td>36</td>\n",
       "      <td>41.849864</td>\n",
       "    </tr>\n",
       "  </tbody>\n",
       "</table>\n",
       "</div>"
      ],
      "text/plain": [
       "    x          y\n",
       "0  77  79.775152\n",
       "1  21  23.177279\n",
       "2  22  25.609262\n",
       "3  20  17.857388\n",
       "4  36  41.849864"
      ]
     },
     "execution_count": 4,
     "metadata": {},
     "output_type": "execute_result"
    }
   ],
   "source": [
    "test_data.head()"
   ]
  },
  {
   "cell_type": "code",
   "execution_count": 5,
   "id": "d8d10360-bffb-41d1-9767-1f7de1e15cfb",
   "metadata": {},
   "outputs": [
    {
     "data": {
      "text/html": [
       "<div>\n",
       "<style scoped>\n",
       "    .dataframe tbody tr th:only-of-type {\n",
       "        vertical-align: middle;\n",
       "    }\n",
       "\n",
       "    .dataframe tbody tr th {\n",
       "        vertical-align: top;\n",
       "    }\n",
       "\n",
       "    .dataframe thead th {\n",
       "        text-align: right;\n",
       "    }\n",
       "</style>\n",
       "<table border=\"1\" class=\"dataframe\">\n",
       "  <thead>\n",
       "    <tr style=\"text-align: right;\">\n",
       "      <th></th>\n",
       "      <th>x</th>\n",
       "      <th>y</th>\n",
       "    </tr>\n",
       "  </thead>\n",
       "  <tbody>\n",
       "    <tr>\n",
       "      <th>0</th>\n",
       "      <td>24.0</td>\n",
       "      <td>21.549452</td>\n",
       "    </tr>\n",
       "    <tr>\n",
       "      <th>1</th>\n",
       "      <td>50.0</td>\n",
       "      <td>47.464463</td>\n",
       "    </tr>\n",
       "    <tr>\n",
       "      <th>2</th>\n",
       "      <td>15.0</td>\n",
       "      <td>17.218656</td>\n",
       "    </tr>\n",
       "    <tr>\n",
       "      <th>3</th>\n",
       "      <td>38.0</td>\n",
       "      <td>36.586398</td>\n",
       "    </tr>\n",
       "    <tr>\n",
       "      <th>4</th>\n",
       "      <td>87.0</td>\n",
       "      <td>87.288984</td>\n",
       "    </tr>\n",
       "  </tbody>\n",
       "</table>\n",
       "</div>"
      ],
      "text/plain": [
       "      x          y\n",
       "0  24.0  21.549452\n",
       "1  50.0  47.464463\n",
       "2  15.0  17.218656\n",
       "3  38.0  36.586398\n",
       "4  87.0  87.288984"
      ]
     },
     "execution_count": 5,
     "metadata": {},
     "output_type": "execute_result"
    }
   ],
   "source": [
    "train_data.head()"
   ]
  },
  {
   "cell_type": "code",
   "execution_count": 6,
   "id": "5abd4660-562a-4233-81bf-79a8caa4728b",
   "metadata": {},
   "outputs": [],
   "source": [
    "import pandas as pd\n",
    "import numpy as np\n",
    "import math\n",
    "import operator\n",
    "import matplotlib.pyplot as plt\n",
    "%matplotlib inline"
   ]
  },
  {
   "cell_type": "code",
   "execution_count": 7,
   "id": "acccf791-6a2c-4b75-af35-007cfc992296",
   "metadata": {},
   "outputs": [],
   "source": [
    "X = train_data['x'].values\n",
    "Y = train_data['y'].values\n",
    "\n",
    "# calculate mean of x & y using an inbuilt numpy method mean()\n",
    "mean_x = np.mean(X)\n",
    "mean_y = np.mean(Y)"
   ]
  },
  {
   "cell_type": "code",
   "execution_count": 8,
   "id": "5d24bfcf-9319-460d-8e3c-37397064b7be",
   "metadata": {},
   "outputs": [
    {
     "name": "stdout",
     "output_type": "stream",
     "text": [
      "m = 1.0006563818563046 \n",
      "c = -0.10726546430100825\n"
     ]
    }
   ],
   "source": [
    "m = len(X)\n",
    "\n",
    "# using the formula to calculate m & c\n",
    "numer = 0\n",
    "denom = 0\n",
    "for i in range(m):\n",
    "    numer += (X[i] - mean_x) * (Y[i] - mean_y)\n",
    "    denom += (X[i] - mean_x) ** 2\n",
    "m = numer / denom\n",
    "c = mean_y - (m * mean_x)\n",
    "\n",
    "print (f'm = {m} \\nc = {c}')"
   ]
  },
  {
   "cell_type": "code",
   "execution_count": 9,
   "id": "bbf146c3-23e4-420e-bcb3-77e6c1a32337",
   "metadata": {},
   "outputs": [
    {
     "data": {
      "image/png": "[encoded data removed]",
      "text/plain": [
       "<Figure size 432x288 with 1 Axes>"
      ]
     },
     "metadata": {
      "needs_background": "light"
     },
     "output_type": "display_data"
    }
   ],
   "source": [
    "max_x = np.max(X) + 100\n",
    "min_x = np.min(Y) - 100\n",
    "\n",
    "# calculating line values x and y\n",
    "x = np.linspace (min_x, max_x, 100)\n",
    "y = c + m * x\n",
    "\n",
    "plt.plot(x, y, color='#58b970', label='Regression Line')\n",
    "plt.scatter(X, Y, c='#ef5423', label='data points')\n",
    "\n",
    "plt.xlabel('Head Size in cm')\n",
    "plt.ylabel('Brain Weight in grams')\n",
    "plt.legend()\n",
    "plt.show()"
   ]
  },
  {
   "cell_type": "code",
   "execution_count": 10,
   "id": "35055dd2-778b-49ac-98fc-3b46fd9fdf3b",
   "metadata": {},
   "outputs": [
    {
     "name": "stdout",
     "output_type": "stream",
     "text": [
      "0.9891072265885439\n"
     ]
    }
   ],
   "source": [
    "# calculating R-squared value for measuring goodness of our model. \n",
    "\n",
    "ss_t = 0 #total sum of squares\n",
    "ss_r = 0 #total sum of square of residuals\n",
    "\n",
    "for i in range(len(x)): # val_count represents the no.of input x values\n",
    "    y_pred = c + m * X[i]\n",
    "    ss_t += (Y[i] - mean_y) ** 2\n",
    "    ss_r += (Y[i] - y_pred) ** 2\n",
    "r2 = 1 - (ss_r/ss_t)\n",
    "\n",
    "print(r2)"
   ]
  },
  {
   "cell_type": "code",
   "execution_count": 11,
   "id": "d24e1f7c-a712-4f57-af2b-c6ac00887792",
   "metadata": {},
   "outputs": [
    {
     "data": {
      "text/plain": [
       "1.0006563818563046"
      ]
     },
     "execution_count": 11,
     "metadata": {},
     "output_type": "execute_result"
    }
   ],
   "source": [
    "m"
   ]
  },
  {
   "cell_type": "code",
   "execution_count": 12,
   "id": "97a069fa-aeed-4d9f-8794-07600719c3a0",
   "metadata": {},
   "outputs": [
    {
     "data": {
      "text/plain": [
       "-0.10726546430100825"
      ]
     },
     "execution_count": 12,
     "metadata": {},
     "output_type": "execute_result"
    }
   ],
   "source": [
    "c"
   ]
  },
  {
   "cell_type": "code",
   "execution_count": 13,
   "id": "3baddb24-a702-4ef0-b5f9-ce7ef2c6c07e",
   "metadata": {},
   "outputs": [],
   "source": [
    "test_x=test_data['x'].values\n",
    "Y_test = test_data['y'].values"
   ]
  },
  {
   "cell_type": "code",
   "execution_count": 14,
   "id": "1f54a484-a383-4acd-ae9e-c70ee0237dfb",
   "metadata": {},
   "outputs": [
    {
     "data": {
      "text/plain": [
       "array([ 77,  21,  22,  20,  36,  15,  62,  95,  20,   5,   4,  19,  96,\n",
       "        62,  36,  15,  65,  14,  87,  69,  89,  51,  89,  27,  97,  58,\n",
       "        79,  21,  93,  27,  99,  31,  33,  80,  28,  47,  53,  69,  28,\n",
       "        33,  91,  71,  50,  76,   4,  37,  70,  68,  40,  35,  94,  88,\n",
       "        52,  31,  59,   0,  39,  64,  69,  57,  13,  72,  76,  61,  82,\n",
       "        18,  41,  50,  55,  13,  46,  13,  79,  53,  15,  28,  81,  69,\n",
       "        52,  84,  68,  27,  56,  48,  40,  39,  82, 100,  59,  43,  67,\n",
       "        38,  63,  91,  60,  14,  21,  87,  73,  32,   2,  82,  19,  74,\n",
       "        42,  12,   1,  90,  89,   0,  41,  16,  94,  97,  66,  24,  17,\n",
       "        90,  13,   0,  64,  96,  98,  12,  41,  47,  78,  20,  89,  29,\n",
       "        64,  75,  12,  25,  28,  30,  65,  59,  64,  53,  71,  97,  73,\n",
       "         9,  12,  63,  99,  60,  35,   2,  60,  32,  94,  84,  63,  22,\n",
       "        81,  93,  33,   7,  42,  46,  54,  16,  49,  43,  95,  66,  21,\n",
       "        35,  80,  37,  54,  56,   1,  32,  58,  32,  46,  72,  17,  97,\n",
       "        93,  91,  37,   4,  54,  51,  27,  46,  92,  73,  77,  91,  61,\n",
       "        99,   4,  72,  19,  57,  78,  26,  74,  90,  66,  13,  40,  77,\n",
       "        67,  75,  23,  45,  59,  44,  23,  55,  55,  95,  12,   4,   7,\n",
       "       100,  48,  42,  96,  39, 100,  87,  14,  14,  37,   5,  88,  91,\n",
       "        65,  74,  56,  16,   5,  28,  92,  46,  54,  39,  44,  31,  68,\n",
       "        86,  90,  38,  21,  95,  56,  60,  65,  78,  89,   6,  67,  36,\n",
       "        16, 100,  45,  73,  57,  20,  76,  34,  55,  72,  55,   8,  56,\n",
       "        72,  58,   6,  96,  23,  58,  23,  19,  25,  64,  21,  59,  19,\n",
       "        16,  42,  43,  61,  92,  11,  41,   1,   8,  71,  46,  55,  62,\n",
       "        47])"
      ]
     },
     "execution_count": 14,
     "metadata": {},
     "output_type": "execute_result"
    }
   ],
   "source": [
    "test_x"
   ]
  },
  {
   "cell_type": "code",
   "execution_count": 15,
   "id": "f06e4a52-d005-40af-a934-d76f0e6a736a",
   "metadata": {},
   "outputs": [],
   "source": [
    "test_y = []\n",
    "\n",
    "for i in range(len(test_x)):\n",
    "    y=c + m * test_x[i]\n",
    "    test_y.append(y)"
   ]
  },
  {
   "cell_type": "code",
   "execution_count": 16,
   "id": "ebd5e1cb-2d04-4751-a0f1-610eb6db9d52",
   "metadata": {},
   "outputs": [
    {
     "data": {
      "text/plain": [
       "[76.94327593863444,\n",
       " 20.906518554681387,\n",
       " 21.907174936537693,\n",
       " 19.90586217282508,\n",
       " 35.916364282525954,\n",
       " 14.90258026354356,\n",
       " 61.93343021078987,\n",
       " 94.95509081204793,\n",
       " 19.90586217282508,\n",
       " 4.896016444980514,\n",
       " 3.89536006312421,\n",
       " 18.90520579096878,\n",
       " 95.95574719390423,\n",
       " 61.93343021078987,\n",
       " 35.916364282525954,\n",
       " 14.90258026354356,\n",
       " 64.93539935635879,\n",
       " 13.901923881687257,\n",
       " 86.9498397571975,\n",
       " 68.93802488378401,\n",
       " 88.9511525209101,\n",
       " 50.926210010370525,\n",
       " 88.9511525209101,\n",
       " 26.910456845819215,\n",
       " 96.95640357576053,\n",
       " 57.930804683364656,\n",
       " 78.94458870234705,\n",
       " 20.906518554681387,\n",
       " 92.95377804833532,\n",
       " 26.910456845819215,\n",
       " 98.95771633947314,\n",
       " 30.913082373244432,\n",
       " 32.91439513695704,\n",
       " 79.94524508420335,\n",
       " 27.91111322767552,\n",
       " 46.92358448294531,\n",
       " 52.92752277408314,\n",
       " 68.93802488378401,\n",
       " 27.91111322767552,\n",
       " 32.91439513695704,\n",
       " 90.9524652846227,\n",
       " 70.93933764749661,\n",
       " 49.92555362851422,\n",
       " 75.94261955677814,\n",
       " 3.89536006312421,\n",
       " 36.917020664382264,\n",
       " 69.93868126564031,\n",
       " 67.93736850192771,\n",
       " 39.91898980995117,\n",
       " 34.91570790066965,\n",
       " 93.95443443019163,\n",
       " 87.9504961390538,\n",
       " 51.92686639222683,\n",
       " 30.913082373244432,\n",
       " 58.93146106522096,\n",
       " -0.10726546430100825,\n",
       " 38.91833342809487,\n",
       " 63.934742974502484,\n",
       " 68.93802488378401,\n",
       " 56.93014830150835,\n",
       " 12.90126749983095,\n",
       " 71.93999402935292,\n",
       " 75.94261955677814,\n",
       " 60.93277382893357,\n",
       " 81.94655784791597,\n",
       " 17.904549409112473,\n",
       " 40.91964619180748,\n",
       " 49.92555362851422,\n",
       " 54.92883553779574,\n",
       " 12.90126749983095,\n",
       " 45.922928101089,\n",
       " 12.90126749983095,\n",
       " 78.94458870234705,\n",
       " 52.92752277408314,\n",
       " 14.90258026354356,\n",
       " 27.91111322767552,\n",
       " 80.94590146605967,\n",
       " 68.93802488378401,\n",
       " 51.92686639222683,\n",
       " 83.94787061162857,\n",
       " 67.93736850192771,\n",
       " 26.910456845819215,\n",
       " 55.92949191965205,\n",
       " 47.92424086480161,\n",
       " 39.91898980995117,\n",
       " 38.91833342809487,\n",
       " 81.94655784791597,\n",
       " 99.95837272132945,\n",
       " 58.93146106522096,\n",
       " 42.920958955520085,\n",
       " 66.93671212007139,\n",
       " 37.917677046238566,\n",
       " 62.93408659264618,\n",
       " 90.9524652846227,\n",
       " 59.93211744707727,\n",
       " 13.901923881687257,\n",
       " 20.906518554681387,\n",
       " 86.9498397571975,\n",
       " 72.94065041120922,\n",
       " 31.913738755100738,\n",
       " 1.8940472994116009,\n",
       " 81.94655784791597,\n",
       " 18.90520579096878,\n",
       " 73.94130679306554,\n",
       " 41.92030257366378,\n",
       " 11.900611117974647,\n",
       " 0.8933909175552963,\n",
       " 89.9518089027664,\n",
       " 88.9511525209101,\n",
       " -0.10726546430100825,\n",
       " 40.91964619180748,\n",
       " 15.903236645399865,\n",
       " 93.95443443019163,\n",
       " 96.95640357576053,\n",
       " 65.93605573821509,\n",
       " 23.9084877002503,\n",
       " 16.90389302725617,\n",
       " 89.9518089027664,\n",
       " 12.90126749983095,\n",
       " -0.10726546430100825,\n",
       " 63.934742974502484,\n",
       " 95.95574719390423,\n",
       " 97.95705995761683,\n",
       " 11.900611117974647,\n",
       " 40.91964619180748,\n",
       " 46.92358448294531,\n",
       " 77.94393232049075,\n",
       " 19.90586217282508,\n",
       " 88.9511525209101,\n",
       " 28.911769609531824,\n",
       " 63.934742974502484,\n",
       " 74.94196317492184,\n",
       " 11.900611117974647,\n",
       " 24.909144082106607,\n",
       " 27.91111322767552,\n",
       " 29.91242599138813,\n",
       " 64.93539935635879,\n",
       " 58.93146106522096,\n",
       " 63.934742974502484,\n",
       " 52.92752277408314,\n",
       " 70.93933764749661,\n",
       " 96.95640357576053,\n",
       " 72.94065041120922,\n",
       " 8.898641972405732,\n",
       " 11.900611117974647,\n",
       " 62.93408659264618,\n",
       " 98.95771633947314,\n",
       " 59.93211744707727,\n",
       " 34.91570790066965,\n",
       " 1.8940472994116009,\n",
       " 59.93211744707727,\n",
       " 31.913738755100738,\n",
       " 93.95443443019163,\n",
       " 83.94787061162857,\n",
       " 62.93408659264618,\n",
       " 21.907174936537693,\n",
       " 80.94590146605967,\n",
       " 92.95377804833532,\n",
       " 32.91439513695704,\n",
       " 6.897329208693124,\n",
       " 41.92030257366378,\n",
       " 45.922928101089,\n",
       " 53.92817915593944,\n",
       " 15.903236645399865,\n",
       " 48.92489724665791,\n",
       " 42.920958955520085,\n",
       " 94.95509081204793,\n",
       " 65.93605573821509,\n",
       " 20.906518554681387,\n",
       " 34.91570790066965,\n",
       " 79.94524508420335,\n",
       " 36.917020664382264,\n",
       " 53.92817915593944,\n",
       " 55.92949191965205,\n",
       " 0.8933909175552963,\n",
       " 31.913738755100738,\n",
       " 57.930804683364656,\n",
       " 31.913738755100738,\n",
       " 45.922928101089,\n",
       " 71.93999402935292,\n",
       " 16.90389302725617,\n",
       " 96.95640357576053,\n",
       " 92.95377804833532,\n",
       " 90.9524652846227,\n",
       " 36.917020664382264,\n",
       " 3.89536006312421,\n",
       " 53.92817915593944,\n",
       " 50.926210010370525,\n",
       " 26.910456845819215,\n",
       " 45.922928101089,\n",
       " 91.953121666479,\n",
       " 72.94065041120922,\n",
       " 76.94327593863444,\n",
       " 90.9524652846227,\n",
       " 60.93277382893357,\n",
       " 98.95771633947314,\n",
       " 3.89536006312421,\n",
       " 71.93999402935292,\n",
       " 18.90520579096878,\n",
       " 56.93014830150835,\n",
       " 77.94393232049075,\n",
       " 25.90980046396291,\n",
       " 73.94130679306554,\n",
       " 89.9518089027664,\n",
       " 65.93605573821509,\n",
       " 12.90126749983095,\n",
       " 39.91898980995117,\n",
       " 76.94327593863444,\n",
       " 66.93671212007139,\n",
       " 74.94196317492184,\n",
       " 22.907831318393995,\n",
       " 44.9222717192327,\n",
       " 58.93146106522096,\n",
       " 43.921615337376394,\n",
       " 22.907831318393995,\n",
       " 54.92883553779574,\n",
       " 54.92883553779574,\n",
       " 94.95509081204793,\n",
       " 11.900611117974647,\n",
       " 3.89536006312421,\n",
       " 6.897329208693124,\n",
       " 99.95837272132945,\n",
       " 47.92424086480161,\n",
       " 41.92030257366378,\n",
       " 95.95574719390423,\n",
       " 38.91833342809487,\n",
       " 99.95837272132945,\n",
       " 86.9498397571975,\n",
       " 13.901923881687257,\n",
       " 13.901923881687257,\n",
       " 36.917020664382264,\n",
       " 4.896016444980514,\n",
       " 87.9504961390538,\n",
       " 90.9524652846227,\n",
       " 64.93539935635879,\n",
       " 73.94130679306554,\n",
       " 55.92949191965205,\n",
       " 15.903236645399865,\n",
       " 4.896016444980514,\n",
       " 27.91111322767552,\n",
       " 91.953121666479,\n",
       " 45.922928101089,\n",
       " 53.92817915593944,\n",
       " 38.91833342809487,\n",
       " 43.921615337376394,\n",
       " 30.913082373244432,\n",
       " 67.93736850192771,\n",
       " 85.94918337534118,\n",
       " 89.9518089027664,\n",
       " 37.917677046238566,\n",
       " 20.906518554681387,\n",
       " 94.95509081204793,\n",
       " 55.92949191965205,\n",
       " 59.93211744707727,\n",
       " 64.93539935635879,\n",
       " 77.94393232049075,\n",
       " 88.9511525209101,\n",
       " 5.896672826836819,\n",
       " 66.93671212007139,\n",
       " 35.916364282525954,\n",
       " 15.903236645399865,\n",
       " 99.95837272132945,\n",
       " 44.9222717192327,\n",
       " 72.94065041120922,\n",
       " 56.93014830150835,\n",
       " 19.90586217282508,\n",
       " 75.94261955677814,\n",
       " 33.91505151881335,\n",
       " 54.92883553779574,\n",
       " 71.93999402935292,\n",
       " 54.92883553779574,\n",
       " 7.897985590549428,\n",
       " 55.92949191965205,\n",
       " 71.93999402935292,\n",
       " 57.930804683364656,\n",
       " 5.896672826836819,\n",
       " 95.95574719390423,\n",
       " 22.907831318393995,\n",
       " 57.930804683364656,\n",
       " 22.907831318393995,\n",
       " 18.90520579096878,\n",
       " 24.909144082106607,\n",
       " 63.934742974502484,\n",
       " 20.906518554681387,\n",
       " 58.93146106522096,\n",
       " 18.90520579096878,\n",
       " 15.903236645399865,\n",
       " 41.92030257366378,\n",
       " 42.920958955520085,\n",
       " 60.93277382893357,\n",
       " 91.953121666479,\n",
       " 10.899954736118342,\n",
       " 40.91964619180748,\n",
       " 0.8933909175552963,\n",
       " 7.897985590549428,\n",
       " 70.93933764749661,\n",
       " 45.922928101089,\n",
       " 54.92883553779574,\n",
       " 61.93343021078987,\n",
       " 46.92358448294531]"
      ]
     },
     "execution_count": 16,
     "metadata": {},
     "output_type": "execute_result"
    }
   ],
   "source": [
    "test_y"
   ]
  },
  {
   "cell_type": "code",
   "execution_count": 17,
   "id": "e03dd0af-9127-4dae-8f09-fb7f3406760c",
   "metadata": {},
   "outputs": [
    {
     "data": {
      "text/plain": [
       "array([ 79.77515201,  23.17727887,  25.60926156,  17.85738813,\n",
       "        41.84986439,   9.80523488,  58.87465933,  97.61793701,\n",
       "        18.39512747,   8.74674765,   2.81141583,  17.09537241,\n",
       "        95.14907176,  61.38800663,  40.24701716,  14.82248589,\n",
       "        66.95806869,  16.63507984,  90.65513736,  77.22982636,\n",
       "        92.11906278,  46.91387709,  89.82634442,  21.71380347,\n",
       "        97.41206981,  57.01631363,  78.31056542,  19.1315097 ,\n",
       "        93.03483388,  26.59112396,  97.55155344,  31.43524822,\n",
       "        35.12724777,  78.61042432,  33.07112825,  51.69967172,\n",
       "        53.62235225,  69.46306072,  27.42497237,  36.34644189,\n",
       "        95.06140858,  68.16724757,  50.96155532,  78.04237454,\n",
       "         5.60766487,  36.11334779,  67.2352155 ,  65.01324035,\n",
       "        38.14753871,  34.31141446,  95.28503937,  87.84749912,\n",
       "        54.08170635,  31.93063515,  59.61247085,  -1.04011421,\n",
       "        47.49374765,  62.60089773,  70.9146434 ,  56.14834113,\n",
       "        14.05572877,  68.11367147,  75.59701346,  59.225745  ,\n",
       "        85.45504157,  17.76197116,  38.68888682,  50.96343637,\n",
       "        51.83503872,  17.0761107 ,  46.56141773,  10.34754461,\n",
       "        77.91032969,  50.17008622,  13.25690647,  31.32274932,\n",
       "        73.9308764 ,  74.45114379,  52.01932286,  83.68820499,\n",
       "        70.3698748 ,  23.44479161,  49.83051801,  49.88226593,\n",
       "        41.04525583,  33.37834391,  81.29750133, 105.5918375 ,\n",
       "        56.82457013,  48.67252645,  67.02150613,  38.43076389,\n",
       "        58.61466887,  89.12377509,  60.9105427 ,  13.83959878,\n",
       "        16.89085185,  84.06676818,  70.34969772,  33.38474138,\n",
       "        -1.63296825,  88.54475895,  17.44047622,  75.69298554,\n",
       "        41.97607107,  12.59244741,   0.27530726,  98.13258005,\n",
       "        87.45721555,  -2.34473854,  39.3294153 ,  16.68715211,\n",
       "        96.58888601,  97.70342201,  67.01715955,  25.63476257,\n",
       "        13.41310757,  95.15647284,   9.74416426,  -3.46788379,\n",
       "        62.82816355,  97.27405461,  95.58017185,   7.46850184,\n",
       "        45.44599591,  46.69013968,  74.4993599 ,  21.63500655,\n",
       "        91.59548851,  26.49487961,  67.38654703,  74.25362837,\n",
       "        12.07991648,  21.32273728,  29.31770045,  26.48713683,\n",
       "        68.94699774,  59.10598995,  64.37521087,  60.20758349,\n",
       "        70.34329706,  97.1082562 ,  75.7584178 ,  10.80462727,\n",
       "        12.11219941,  63.28312382,  98.03017721,  63.19354354,\n",
       "        34.8534823 ,  -2.81991397,  59.8313966 ,  29.38505024,\n",
       "        97.00148372,  85.18657275,  61.74063192,  18.84798163,\n",
       "        78.79008525,  95.12400481,  30.48881287,  10.41468095,\n",
       "        38.98317436,  46.11021062,  52.45103628,  21.16523945,\n",
       "        52.28620611,  44.18863945,  97.13832018,  67.22008001,\n",
       "        18.98322306,  24.3884599 ,  79.44769523,  40.03504862,\n",
       "        53.32005764,  54.55446979,  -2.7611826 ,  37.80182795,\n",
       "        57.48741435,  36.06292994,  49.83538167,  74.68953276,\n",
       "        14.86159401, 101.0697879 ,  99.43577876,  91.69240746,\n",
       "        34.12473248,   6.07939007,  59.07247174,  56.43046022,\n",
       "        30.49412933,  48.35172635,  89.73153611,  72.86282528,\n",
       "        80.97144285,  91.36566374,  60.07137496,  99.87382707,\n",
       "         8.65571417,  69.39858505,  19.38780134,  53.11628433,\n",
       "        78.39683006,  25.75612514,  75.07484683,  92.88772282,\n",
       "        69.45498498,  13.12109842,  48.09843134,  79.3142548 ,\n",
       "        68.48820749,  73.2300846 ,  24.68362712,  41.90368917,\n",
       "        62.22635684,  45.96396877,  23.52647153,  51.80035866,\n",
       "        51.10774273,  95.79747345,   9.24113898,   7.64652976,\n",
       "         9.28169975, 103.5266162 ,  47.41006725,  42.03835773,\n",
       "        96.11982476,  38.05766408, 105.4503788 ,  88.80306911,\n",
       "        15.49301141,  12.42624606,  40.00709598,   5.6340309 ,\n",
       "        87.36938931,  89.73951993,  66.61499643,  72.9138853 ,\n",
       "        57.19103506,  11.21710477,   0.67607675,  28.15668543,\n",
       "        95.3958003 ,  52.05490703,  59.70864577,  36.79224762,\n",
       "        37.08457698,  24.18437976,  67.28725332,  82.870594  ,\n",
       "        89.899991  ,  36.94173178,  19.87562242,  90.71481654,\n",
       "        61.09367762,  60.11134958,  64.83296316,  81.40381769,\n",
       "        92.40217686,   2.57662538,  63.80768172,  38.67780759,\n",
       "        16.82839701,  99.78687252,  44.68913433,  71.00377824,\n",
       "        51.57326718,  19.87846479,  79.50341495,  34.58876491,\n",
       "        55.7383467 ,  68.19721905,  55.81628509,   9.3914168 ,\n",
       "        56.01448111,  77.9969477 ,  55.37049953,  11.89457829,\n",
       "        94.79081712,  25.69041546,  53.52042319,  18.31396758,\n",
       "        21.42637785,  30.41303282,  67.68142149,  17.0854783 ,\n",
       "        60.91792707,  14.99514319,  16.74923937,  41.46923883,\n",
       "        42.84526108,  59.12912974,  91.30863673,   8.67333636,\n",
       "        39.31485292,   5.3136862 ,   5.40522052,  68.5458879 ,\n",
       "        47.33487629,  54.09063686,  63.29717058,  52.45946688])"
      ]
     },
     "execution_count": 17,
     "metadata": {},
     "output_type": "execute_result"
    }
   ],
   "source": [
    "Y_test"
   ]
  },
  {
   "cell_type": "code",
   "execution_count": 25,
   "id": "c981a062-06b2-492d-ab41-dd66d8d0118a",
   "metadata": {},
   "outputs": [
    {
     "name": "stdout",
     "output_type": "stream",
     "text": [
      "0.988824176470064\n"
     ]
    }
   ],
   "source": [
    "mean_y = np.mean(Y_test)\n",
    "for i in range(len(test_x)): # val_count represents the no.of input x values\n",
    "    y_pred = c + m * test_x[i]\n",
    "    ss_t += (Y_test[i] - mean_y) ** 2\n",
    "    ss_r += (Y_test[i] - y_pred) ** 2\n",
    "r2 = 1 - (ss_r/ss_t)\n",
    "rmse = ss_r/len(Y_test)\n",
    "print(r2)"
   ]
  },
  {
   "cell_type": "code",
   "execution_count": 26,
   "id": "9c015d36-1660-4804-8db6-21dc52bb9ae1",
   "metadata": {},
   "outputs": [
    {
     "data": {
      "text/plain": [
       "40.679215299364756"
      ]
     },
     "execution_count": 26,
     "metadata": {},
     "output_type": "execute_result"
    }
   ],
   "source": [
    "rmse"
   ]
  },
  {
   "cell_type": "raw",
   "id": "82eb4c7c-e755-4f3d-a30c-c260247f198a",
   "metadata": {},
   "source": []
  },
  {
   "cell_type": "code",
   "execution_count": 27,
   "id": "981069bf-8aae-4fd9-bc11-8936f58b4169",
   "metadata": {},
   "outputs": [
    {
     "data": {
      "text/plain": [
       "6.378025971988885"
      ]
     },
     "execution_count": 27,
     "metadata": {},
     "output_type": "execute_result"
    }
   ],
   "source": [
    "import math\n",
    "math.sqrt(rmse)"
   ]
  },
  {
   "cell_type": "code",
   "execution_count": null,
   "id": "7ae7c039-8989-4d11-a4f6-bef8f2169129",
   "metadata": {},
   "outputs": [],
   "source": []
  }
 ],
 "metadata": {
  "kernelspec": {
   "display_name": "Python 3 (ipykernel)",
   "language": "python",
   "name": "python3"
  },
  "language_info": {
   "codemirror_mode": {
    "name": "ipython",
    "version": 3
   },
   "file_extension": ".py",
   "mimetype": "text/x-python",
   "name": "python",
   "nbconvert_exporter": "python",
   "pygments_lexer": "ipython3",
   "version": "3.9.7"
  }
 },
 "nbformat": 4,
 "nbformat_minor": 5
}
