{
 "cells": [
  {
   "cell_type": "code",
   "execution_count": 1,
   "id": "d38bdc4c",
   "metadata": {},
   "outputs": [],
   "source": []
  },
  {
   "cell_type": "code",
   "execution_count": 2,
   "id": "501cd31f",
   "metadata": {},
   "outputs": [],
   "source": []
  },
  {
   "cell_type": "code",
   "execution_count": 3,
   "id": "b541e27f",
   "metadata": {},
   "outputs": [],
   "source": []
  },
  {
   "cell_type": "code",
   "execution_count": 123,
   "id": "7978f8be",
   "metadata": {},
   "outputs": [
    {
     "data": {
      "text/plain": [
       "array([0.37688924, 0.81175838, 0.71685712, 0.67197753, 0.30123886])"
      ]
     },
     "execution_count": 123,
     "metadata": {},
     "output_type": "execute_result"
    }
   ],
   "source": [
    "def feed_forward(x,y):\n",
    "    \n",
    "    w1 = np.random.randn()\n",
    "    w2 = np.random.randn()\n",
    "    w3 = np.random.randn()\n",
    "    w4 = np.random.randn()\n",
    "    w5 = np.random.randn()\n",
    "    w6 = np.random.randn()\n",
    "    w7 = np.random.randn()\n",
    "    w8 = np.random.randn()\n",
    "    w9 = np.random.randn()\n",
    "    w10 = np.random.randn()\n",
    "    b1 = np.random.randn()\n",
    "    b2 = np.random.randn()\n",
    "    b3 = np.random.randn()\n",
    "    b4 = np.random.randn()\n",
    "    b5 = np.random.randn()\n",
    "    b6 = np.random.randn()\n",
    "    x1 = x2 = x\n",
    "    y1 = y2 = y\n",
    "    a1 = w1*x1 + w2*x2 + b1\n",
    "    h1 = sig_activation(a1)\n",
    "    a2 = w3*y1 + w4*y2 + b2\n",
    "    h2 = sig_activation(a2)\n",
    "    a3 = w5*h1 + w6*h2 + b3\n",
    "    h3 = sig_activation(a3)\n",
    "    a4 = w6*h3 + b4\n",
    "    h4 = sig_activation(a4)\n",
    "    a5 = w7*h4 + b5\n",
    "    h5 = sig_activation(a5)\n",
    "    a6 = w8*h5 + b6\n",
    "    h6 = sig_activation(a6)\n",
    "    return h6\n",
    "    \n",
    "def sig_activation(x):\n",
    "    a = 1.0/(1.0 + np.exp(-x))\n",
    "    return a\n",
    "    \n",
    "def call_output():\n",
    "    arr1= np.random.randint(1,10,5)\n",
    "    arr2= np.random.randint(1,10,5)\n",
    "    output = []\n",
    "    for x,y in zip(arr1,arr2):\n",
    "        op = feed_forward(x,y)\n",
    "        output.append(op)\n",
    "    return np.array(output)\n",
    "call_output()"
   ]
  },
  {
   "cell_type": "code",
   "execution_count": 119,
   "id": "8c4c33c9",
   "metadata": {},
   "outputs": [
    {
     "data": {
      "text/plain": [
       "array([0.42395037, 0.91900049, 0.50595838, 0.42948086, 0.45399463])"
      ]
     },
     "execution_count": 119,
     "metadata": {},
     "output_type": "execute_result"
    }
   ],
   "source": [
    "call_output()"
   ]
  },
  {
   "cell_type": "code",
   "execution_count": 74,
   "id": "e8ee4cbc",
   "metadata": {},
   "outputs": [
    {
     "data": {
      "text/plain": [
       "array([0.38846305, 0.36462164, 0.34565417, 0.33173204, 0.32199998])"
      ]
     },
     "execution_count": 74,
     "metadata": {},
     "output_type": "execute_result"
    }
   ],
   "source": []
  },
  {
   "cell_type": "code",
   "execution_count": null,
   "id": "a2416f75",
   "metadata": {},
   "outputs": [],
   "source": []
  }
 ],
 "metadata": {
  "kernelspec": {
   "display_name": "Python 3 (ipykernel)",
   "language": "python",
   "name": "python3"
  },
  "language_info": {
   "codemirror_mode": {
    "name": "ipython",
    "version": 3
   },
   "file_extension": ".py",
   "mimetype": "text/x-python",
   "name": "python",
   "nbconvert_exporter": "python",
   "pygments_lexer": "ipython3",
   "version": "3.9.7"
  }
 },
 "nbformat": 4,
 "nbformat_minor": 5
}
