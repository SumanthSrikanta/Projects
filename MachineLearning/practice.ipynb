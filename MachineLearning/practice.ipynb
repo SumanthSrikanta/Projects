{
 "cells": [
  {
   "cell_type": "code",
   "execution_count": 3,
   "id": "943f7e26",
   "metadata": {},
   "outputs": [],
   "source": [
    "import pandas as pd\n",
    "import requests"
   ]
  },
  {
   "cell_type": "code",
   "execution_count": 4,
   "id": "f436aa40",
   "metadata": {},
   "outputs": [],
   "source": [
    "api_url = \"https://api.yelp.com/v3/businesses/search\""
   ]
  },
  {
   "cell_type": "code",
   "execution_count": 7,
   "id": "2f452c1b",
   "metadata": {},
   "outputs": [],
   "source": [
    "response = requests.get(api_url)"
   ]
  },
  {
   "cell_type": "code",
   "execution_count": 8,
   "id": "009d6a5a",
   "metadata": {},
   "outputs": [],
   "source": [
    "data = response.json()"
   ]
  },
  {
   "cell_type": "code",
   "execution_count": 10,
   "id": "09c3abf8",
   "metadata": {},
   "outputs": [],
   "source": [
    "cafes = pd.DataFrame(data)"
   ]
  },
  {
   "cell_type": "code",
   "execution_count": 12,
   "id": "788c708d",
   "metadata": {},
   "outputs": [
    {
     "name": "stdout",
     "output_type": "stream",
     "text": [
      "                                              error\n",
      "code                               VALIDATION_ERROR\n",
      "description  Authorization is a required parameter.\n",
      "field                                 Authorization\n",
      "instance                                       None\n"
     ]
    }
   ],
   "source": [
    "print(cafes)"
   ]
  },
  {
   "cell_type": "code",
   "execution_count": null,
   "id": "8840de68",
   "metadata": {},
   "outputs": [],
   "source": []
  }
 ],
 "metadata": {
  "kernelspec": {
   "display_name": "Python 3 (ipykernel)",
   "language": "python",
   "name": "python3"
  },
  "language_info": {
   "codemirror_mode": {
    "name": "ipython",
    "version": 3
   },
   "file_extension": ".py",
   "mimetype": "text/x-python",
   "name": "python",
   "nbconvert_exporter": "python",
   "pygments_lexer": "ipython3",
   "version": "3.9.7"
  }
 },
 "nbformat": 4,
 "nbformat_minor": 5
}
